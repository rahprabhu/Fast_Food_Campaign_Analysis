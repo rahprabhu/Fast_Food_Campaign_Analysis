{
 "cells": [
  {
   "cell_type": "markdown",
   "id": "4a4729b7",
   "metadata": {},
   "source": [
    "# Fast Food Marketing Campaign Analysis"
   ]
  },
  {
   "cell_type": "markdown",
   "id": "0241efc2",
   "metadata": {},
   "source": [
    "### About\n",
    "A fast-food chain is planning to add a new item to the menu, but before fully rolling out the item, the company wants to experiment with three different campaigns promoting the new item at restaurants in randomly selected markets. The idea is to see which promotion works best at bringing in sales, which is reported on a weekly basis over a 4 week period."
   ]
  },
  {
   "cell_type": "markdown",
   "id": "662dfac8",
   "metadata": {},
   "source": [
    "## Hypothesis\n",
    "\n",
    "With three different promotions being tested, the goal is to measure the sales behind each promotion and determine whether there is a statistically significant difference in sales between the three promotions. That being said, the null and alternate hypothesis are as follows:\n",
    "\n",
    "**Null**: There is no statistically significant difference in sales between the the three promotions.\n",
    "\n",
    "**Alternate**: There is a statistically significant difference in sales between the three promotions."
   ]
  },
  {
   "cell_type": "markdown",
   "id": "3246dc97",
   "metadata": {},
   "source": [
    "### Importing Packages/Loading Dataset"
   ]
  },
  {
   "cell_type": "code",
   "execution_count": 1,
   "id": "7fb483d9",
   "metadata": {},
   "outputs": [],
   "source": [
    "import pandas as pd\n",
    "import numpy as np\n",
    "import matplotlib.pyplot as plt\n",
    "%matplotlib inline\n",
    "import seaborn as sns\n",
    "sns.set()\n",
    "import warnings\n",
    "\n",
    "import scipy.stats as stats\n",
    "warnings.filterwarnings('ignore')"
   ]
  },
  {
   "cell_type": "code",
   "execution_count": 2,
   "id": "bbecc84a",
   "metadata": {},
   "outputs": [],
   "source": [
    "df = pd.read_csv(r'Downloads\\WA_Marketing-Campaign.csv')"
   ]
  },
  {
   "cell_type": "code",
   "execution_count": 3,
   "id": "037ca8f0",
   "metadata": {},
   "outputs": [
    {
     "data": {
      "text/html": [
       "<div>\n",
       "<style scoped>\n",
       "    .dataframe tbody tr th:only-of-type {\n",
       "        vertical-align: middle;\n",
       "    }\n",
       "\n",
       "    .dataframe tbody tr th {\n",
       "        vertical-align: top;\n",
       "    }\n",
       "\n",
       "    .dataframe thead th {\n",
       "        text-align: right;\n",
       "    }\n",
       "</style>\n",
       "<table border=\"1\" class=\"dataframe\">\n",
       "  <thead>\n",
       "    <tr style=\"text-align: right;\">\n",
       "      <th></th>\n",
       "      <th>MarketID</th>\n",
       "      <th>MarketSize</th>\n",
       "      <th>LocationID</th>\n",
       "      <th>AgeOfStore</th>\n",
       "      <th>Promotion</th>\n",
       "      <th>week</th>\n",
       "      <th>SalesInThousands</th>\n",
       "    </tr>\n",
       "  </thead>\n",
       "  <tbody>\n",
       "    <tr>\n",
       "      <th>0</th>\n",
       "      <td>1</td>\n",
       "      <td>Medium</td>\n",
       "      <td>1</td>\n",
       "      <td>4</td>\n",
       "      <td>3</td>\n",
       "      <td>1</td>\n",
       "      <td>33.73</td>\n",
       "    </tr>\n",
       "    <tr>\n",
       "      <th>1</th>\n",
       "      <td>1</td>\n",
       "      <td>Medium</td>\n",
       "      <td>1</td>\n",
       "      <td>4</td>\n",
       "      <td>3</td>\n",
       "      <td>2</td>\n",
       "      <td>35.67</td>\n",
       "    </tr>\n",
       "    <tr>\n",
       "      <th>2</th>\n",
       "      <td>1</td>\n",
       "      <td>Medium</td>\n",
       "      <td>1</td>\n",
       "      <td>4</td>\n",
       "      <td>3</td>\n",
       "      <td>3</td>\n",
       "      <td>29.03</td>\n",
       "    </tr>\n",
       "    <tr>\n",
       "      <th>3</th>\n",
       "      <td>1</td>\n",
       "      <td>Medium</td>\n",
       "      <td>1</td>\n",
       "      <td>4</td>\n",
       "      <td>3</td>\n",
       "      <td>4</td>\n",
       "      <td>39.25</td>\n",
       "    </tr>\n",
       "    <tr>\n",
       "      <th>4</th>\n",
       "      <td>1</td>\n",
       "      <td>Medium</td>\n",
       "      <td>2</td>\n",
       "      <td>5</td>\n",
       "      <td>2</td>\n",
       "      <td>1</td>\n",
       "      <td>27.81</td>\n",
       "    </tr>\n",
       "  </tbody>\n",
       "</table>\n",
       "</div>"
      ],
      "text/plain": [
       "   MarketID MarketSize  LocationID  AgeOfStore  Promotion  week  \\\n",
       "0         1     Medium           1           4          3     1   \n",
       "1         1     Medium           1           4          3     2   \n",
       "2         1     Medium           1           4          3     3   \n",
       "3         1     Medium           1           4          3     4   \n",
       "4         1     Medium           2           5          2     1   \n",
       "\n",
       "   SalesInThousands  \n",
       "0             33.73  \n",
       "1             35.67  \n",
       "2             29.03  \n",
       "3             39.25  \n",
       "4             27.81  "
      ]
     },
     "execution_count": 3,
     "metadata": {},
     "output_type": "execute_result"
    }
   ],
   "source": [
    "df.head()"
   ]
  },
  {
   "cell_type": "code",
   "execution_count": 4,
   "id": "391dc411",
   "metadata": {},
   "outputs": [
    {
     "name": "stdout",
     "output_type": "stream",
     "text": [
      "<class 'pandas.core.frame.DataFrame'>\n",
      "RangeIndex: 548 entries, 0 to 547\n",
      "Data columns (total 7 columns):\n",
      " #   Column            Non-Null Count  Dtype  \n",
      "---  ------            --------------  -----  \n",
      " 0   MarketID          548 non-null    int64  \n",
      " 1   MarketSize        548 non-null    object \n",
      " 2   LocationID        548 non-null    int64  \n",
      " 3   AgeOfStore        548 non-null    int64  \n",
      " 4   Promotion         548 non-null    int64  \n",
      " 5   week              548 non-null    int64  \n",
      " 6   SalesInThousands  548 non-null    float64\n",
      "dtypes: float64(1), int64(5), object(1)\n",
      "memory usage: 30.1+ KB\n"
     ]
    }
   ],
   "source": [
    "df.info()"
   ]
  },
  {
   "cell_type": "markdown",
   "id": "f89a3398",
   "metadata": {},
   "source": [
    "## Understanding the Data"
   ]
  },
  {
   "cell_type": "markdown",
   "id": "f284483c",
   "metadata": {},
   "source": [
    "#### How many restaurants are involved in the campaign?"
   ]
  },
  {
   "cell_type": "code",
   "execution_count": 5,
   "id": "a81568a5",
   "metadata": {},
   "outputs": [
    {
     "name": "stdout",
     "output_type": "stream",
     "text": [
      "There are 137 stores involved in the campaign\n"
     ]
    }
   ],
   "source": [
    "print('There are', df['LocationID'].nunique(), 'stores involved in the campaign')"
   ]
  },
  {
   "cell_type": "markdown",
   "id": "69ae7849",
   "metadata": {},
   "source": [
    "#### How many weeks is the campaign running for?"
   ]
  },
  {
   "cell_type": "code",
   "execution_count": 6,
   "id": "ce52d317",
   "metadata": {},
   "outputs": [
    {
     "name": "stdout",
     "output_type": "stream",
     "text": [
      "The campaign is running for 4 weeks\n"
     ]
    }
   ],
   "source": [
    "print('The campaign is running for', df['week'].max(),'weeks')"
   ]
  },
  {
   "cell_type": "markdown",
   "id": "b4dcad3c",
   "metadata": {},
   "source": [
    "#### How many restaurants are in each market?"
   ]
  },
  {
   "cell_type": "code",
   "execution_count": 7,
   "id": "b37e120e",
   "metadata": {},
   "outputs": [],
   "source": [
    "market_counts = pd.DataFrame(df.groupby(['MarketID'])['LocationID'].count().reset_index())"
   ]
  },
  {
   "cell_type": "code",
   "execution_count": 8,
   "id": "8e70972a",
   "metadata": {},
   "outputs": [
    {
     "data": {
      "image/png": "[encoded data removed]",
      "text/plain": [
       "<Figure size 576x432 with 1 Axes>"
      ]
     },
     "metadata": {},
     "output_type": "display_data"
    }
   ],
   "source": [
    "fig = plt.figure(figsize=(8,6))\n",
    "plt.bar(market_counts['MarketID'], market_counts['LocationID'])\n",
    "plt.xticks(market_counts['MarketID'])\n",
    "plt.title('Number of Locations by Market', fontsize = 14)\n",
    "plt.show()"
   ]
  },
  {
   "cell_type": "markdown",
   "id": "b1a3f237",
   "metadata": {},
   "source": [
    "## Checking for Pretest Bias"
   ]
  },
  {
   "cell_type": "markdown",
   "id": "8f2e5c7c",
   "metadata": {},
   "source": [
    "### Promotions by Market Size\n",
    "Are the promotions evenly distributed across the different market sizes?"
   ]
  },
  {
   "cell_type": "code",
   "execution_count": 9,
   "id": "9d01a9e9",
   "metadata": {},
   "outputs": [],
   "source": [
    "promotion_market = pd.DataFrame(df.groupby(['Promotion','MarketSize'])['LocationID'].nunique().unstack())"
   ]
  },
  {
   "cell_type": "code",
   "execution_count": 10,
   "id": "bd469dff",
   "metadata": {
    "scrolled": false
   },
   "outputs": [
    {
     "data": {
      "image/png": "[encoded data removed]",
      "text/plain": [
       "<Figure size 504x504 with 1 Axes>"
      ]
     },
     "metadata": {},
     "output_type": "display_data"
    }
   ],
   "source": [
    "fig = plt.figure(figsize=(7,7))\n",
    "plt.bar(['1','2','3'], promotion_market.Small, label = 'Small')\n",
    "plt.bar(['1','2','3'], promotion_market.Medium, bottom=promotion_market.Small, label = 'Medium')\n",
    "plt.bar(['1','2','3'], promotion_market.Large, bottom=promotion_market.Medium, label = 'Large')\n",
    "plt.legend()\n",
    "plt.xticks(rotation=0, ha='center')\n",
    "plt.title('Number of Locations Participating in Promotion', fontsize = 14)\n",
    "plt.show()"
   ]
  },
  {
   "cell_type": "markdown",
   "id": "6e494578",
   "metadata": {},
   "source": [
    "While Promotion 2 is more commonly rolled out than the other two, each promotion is most commonly being tested in medium sized markets."
   ]
  },
  {
   "cell_type": "markdown",
   "id": "19762acc",
   "metadata": {},
   "source": [
    "### Average Store Age by Promotion"
   ]
  },
  {
   "cell_type": "code",
   "execution_count": 11,
   "id": "ed77f7a0",
   "metadata": {},
   "outputs": [],
   "source": [
    "store_age = pd.DataFrame(df.groupby('Promotion')['AgeOfStore'].mean().round(2))"
   ]
  },
  {
   "cell_type": "code",
   "execution_count": 12,
   "id": "c956372e",
   "metadata": {},
   "outputs": [
    {
     "data": {
      "text/html": [
       "<div>\n",
       "<style scoped>\n",
       "    .dataframe tbody tr th:only-of-type {\n",
       "        vertical-align: middle;\n",
       "    }\n",
       "\n",
       "    .dataframe tbody tr th {\n",
       "        vertical-align: top;\n",
       "    }\n",
       "\n",
       "    .dataframe thead th {\n",
       "        text-align: right;\n",
       "    }\n",
       "</style>\n",
       "<table border=\"1\" class=\"dataframe\">\n",
       "  <thead>\n",
       "    <tr style=\"text-align: right;\">\n",
       "      <th></th>\n",
       "      <th>AgeOfStore</th>\n",
       "    </tr>\n",
       "    <tr>\n",
       "      <th>Promotion</th>\n",
       "      <th></th>\n",
       "    </tr>\n",
       "  </thead>\n",
       "  <tbody>\n",
       "    <tr>\n",
       "      <th>1</th>\n",
       "      <td>8.28</td>\n",
       "    </tr>\n",
       "    <tr>\n",
       "      <th>2</th>\n",
       "      <td>7.98</td>\n",
       "    </tr>\n",
       "    <tr>\n",
       "      <th>3</th>\n",
       "      <td>9.23</td>\n",
       "    </tr>\n",
       "  </tbody>\n",
       "</table>\n",
       "</div>"
      ],
      "text/plain": [
       "           AgeOfStore\n",
       "Promotion            \n",
       "1                8.28\n",
       "2                7.98\n",
       "3                9.23"
      ]
     },
     "execution_count": 12,
     "metadata": {},
     "output_type": "execute_result"
    }
   ],
   "source": [
    "store_age"
   ]
  },
  {
   "cell_type": "markdown",
   "id": "9daccc3b",
   "metadata": {},
   "source": [
    "The average store age appears to be between 8-9 years old, so no imbalance here."
   ]
  },
  {
   "cell_type": "markdown",
   "id": "c1daaa1d",
   "metadata": {},
   "source": [
    "## Understanding the Target Variable: Sales"
   ]
  },
  {
   "cell_type": "code",
   "execution_count": 13,
   "id": "a05e436c",
   "metadata": {},
   "outputs": [
    {
     "name": "stdout",
     "output_type": "stream",
     "text": [
      "The average weekly restaurant sales during the 4 week campaign is 53.47 thousand\n"
     ]
    }
   ],
   "source": [
    "print('The average weekly restaurant sales during the 4 week campaign is',round(df['SalesInThousands'].mean(),2),'thousand')"
   ]
  },
  {
   "cell_type": "code",
   "execution_count": 14,
   "id": "df83b0a2",
   "metadata": {},
   "outputs": [
    {
     "data": {
      "image/png": "[encoded data removed]",
      "text/plain": [
       "<Figure size 576x432 with 1 Axes>"
      ]
     },
     "metadata": {},
     "output_type": "display_data"
    }
   ],
   "source": [
    "fig = plt.figure(figsize=(8,6))\n",
    "plt.hist(df['SalesInThousands'])\n",
    "plt.title('Distribution of Weekly Restaurant Sales', fontsize = 14)\n",
    "plt.show()"
   ]
  },
  {
   "cell_type": "markdown",
   "id": "4927ccf4",
   "metadata": {},
   "source": [
    "### Weekly Sales by Promotion"
   ]
  },
  {
   "cell_type": "code",
   "execution_count": 15,
   "id": "11ddc9e4",
   "metadata": {},
   "outputs": [],
   "source": [
    "sales = pd.DataFrame(df.groupby(['Promotion','week'])['SalesInThousands'].sum().reset_index())\n",
    "weekly_sales = sales.pivot('week','Promotion','SalesInThousands')"
   ]
  },
  {
   "cell_type": "code",
   "execution_count": 16,
   "id": "b2e866e6",
   "metadata": {},
   "outputs": [
    {
     "data": {
      "image/png": "[encoded data removed]",
      "text/plain": [
       "<Figure size 432x360 with 1 Axes>"
      ]
     },
     "metadata": {},
     "output_type": "display_data"
    }
   ],
   "source": [
    "fig = plt.figure(figsize=(6,5))\n",
    "sns.lineplot(data=weekly_sales)\n",
    "plt.title('Weekly Sales by Promotion', fontsize = 14)\n",
    "plt.xticks([1,2,3,4])\n",
    "plt.show()"
   ]
  },
  {
   "cell_type": "markdown",
   "id": "bd053b08",
   "metadata": {},
   "source": [
    "### Running Sum of Sales by Promotion"
   ]
  },
  {
   "cell_type": "code",
   "execution_count": 17,
   "id": "25cfe9c2",
   "metadata": {},
   "outputs": [],
   "source": [
    "weekly_sales_cumulative = sales.pivot('week','Promotion','SalesInThousands').cumsum()"
   ]
  },
  {
   "cell_type": "code",
   "execution_count": 18,
   "id": "eb8ce334",
   "metadata": {},
   "outputs": [
    {
     "data": {
      "image/png": "[encoded data removed]",
      "text/plain": [
       "<Figure size 432x360 with 1 Axes>"
      ]
     },
     "metadata": {},
     "output_type": "display_data"
    }
   ],
   "source": [
    "fig = plt.figure(figsize=(6,5))\n",
    "sns.lineplot(data=weekly_sales_cumulative)\n",
    "plt.title('Running Sum of Sales by Promotion', fontsize = 14)\n",
    "plt.xticks([1,2,3,4])\n",
    "plt.show()"
   ]
  },
  {
   "cell_type": "markdown",
   "id": "6f90982a",
   "metadata": {},
   "source": [
    "**Thoughts**\n",
    "\n",
    "It's clear that Promotions 3 and 1 have the most sales, with Promotion 2 having the least sales. Just comparing the sales figures is not enough however, as we need to determine whether these differences are statistically significant. We can start exploring this through a one-way ANOVA test."
   ]
  },
  {
   "cell_type": "markdown",
   "id": "93107866",
   "metadata": {},
   "source": [
    "## One-Way ANOVA Test"
   ]
  },
  {
   "cell_type": "code",
   "execution_count": 19,
   "id": "77286135",
   "metadata": {},
   "outputs": [],
   "source": [
    "# Creating series for sales of each promotion\n",
    "promo_1 = df[df['Promotion'] == 1]['SalesInThousands']\n",
    "promo_2 = df[df['Promotion'] == 2]['SalesInThousands']\n",
    "promo_3 = df[df['Promotion'] == 3]['SalesInThousands']"
   ]
  },
  {
   "cell_type": "code",
   "execution_count": 20,
   "id": "0cf68e55",
   "metadata": {},
   "outputs": [
    {
     "data": {
      "text/plain": [
       "F_onewayResult(statistic=21.953485793080677, pvalue=6.765849261408714e-10)"
      ]
     },
     "execution_count": 20,
     "metadata": {},
     "output_type": "execute_result"
    }
   ],
   "source": [
    "# Performing the ANOVA\n",
    "stats.f_oneway(promo_1, promo_2, promo_3)"
   ]
  },
  {
   "cell_type": "markdown",
   "id": "0a80f133",
   "metadata": {},
   "source": [
    "**Results**\n",
    "\n",
    "The ANOVA test yields an F-statistic of 21.95 and a p-value that is much lower than an alpha value of 0.05 or 0.01, indicating that there is an statistically significant difference in the mean sales between the three promotions.  "
   ]
  },
  {
   "cell_type": "markdown",
   "id": "03c48572",
   "metadata": {},
   "source": [
    "## Post-Hoc Testing\n",
    "Which promotion's sales is causing the statistically significant difference in sales? We can use Tukey's test to tell us which differences and significant."
   ]
  },
  {
   "cell_type": "code",
   "execution_count": 21,
   "id": "5202e215",
   "metadata": {
    "scrolled": false
   },
   "outputs": [
    {
     "data": {
      "text/html": [
       "<table class=\"simpletable\">\n",
       "<caption>Multiple Comparison of Means - Tukey HSD, FWER=0.05</caption>\n",
       "<tr>\n",
       "  <th>group1</th> <th>group2</th> <th>meandiff</th>  <th>p-adj</th>  <th>lower</th>   <th>upper</th>  <th>reject</th>\n",
       "</tr>\n",
       "<tr>\n",
       "     <td>1</td>      <td>2</td>   <td>-10.7696</td>  <td>0.001</td> <td>-14.774</td> <td>-6.7652</td>  <td>True</td> \n",
       "</tr>\n",
       "<tr>\n",
       "     <td>1</td>      <td>3</td>    <td>-2.7345</td> <td>0.2447</td> <td>-6.7389</td> <td>1.2698</td>   <td>False</td>\n",
       "</tr>\n",
       "<tr>\n",
       "     <td>2</td>      <td>3</td>    <td>8.0351</td>   <td>0.001</td> <td>4.1207</td>  <td>11.9494</td>  <td>True</td> \n",
       "</tr>\n",
       "</table>"
      ],
      "text/plain": [
       "<class 'statsmodels.iolib.table.SimpleTable'>"
      ]
     },
     "execution_count": 21,
     "metadata": {},
     "output_type": "execute_result"
    },
    {
     "data": {
      "image/png": "[encoded data removed]",
      "text/plain": [
       "<Figure size 720x432 with 1 Axes>"
      ]
     },
     "metadata": {},
     "output_type": "display_data"
    }
   ],
   "source": [
    "from statsmodels.stats.multicomp import pairwise_tukeyhsd\n",
    "\n",
    "tukey = pairwise_tukeyhsd(endog=df['SalesInThousands'],\n",
    "                         groups = df['Promotion'],\n",
    "                         alpha = 0.05)\n",
    "\n",
    "tukey.plot_simultaneous()\n",
    "plt.title('Sales Confidence Intervals for Promotions', fontsize=14, fontweight='bold')\n",
    "tukey.summary()"
   ]
  },
  {
   "cell_type": "markdown",
   "id": "e4854a4c",
   "metadata": {},
   "source": [
    "**Thoughts**\n",
    "\n",
    "The Tukey test summary table show us the mean difference in sales, the p-values, and whether we can accept (True) or reject (False) the null hypothesis. \n",
    "\n",
    "The results show that there is a statistically significant difference between promotions **1 and 2** and between **2 and 3**, while there is not a statistically significant difference between promotions 1 and 3."
   ]
  },
  {
   "cell_type": "markdown",
   "id": "4f669455",
   "metadata": {},
   "source": [
    "## Recommendations\n",
    "\n",
    "Promotions 1 and 3 both outperform promotion 2, so we wouldn't recommend promotion 2. Because the mean sales for promotions 1 and 3 are so close together, we can't confidently recommend one over the other. Below are some recommendations to consider:\n",
    "- Roll out both promotion 2 and 3.\n",
    "- Compare and contrast the elements of promotion 2 and 3 to devise a new promotion that combines the best elements of both into one.\n",
    "- Make this a true A/B test. Measure sales at restaurants where the new item has not been added to the menu as part of a control group, and then rollout just one promotion at select restaurants. Sales can be measured pre-test and during the test to determine the impact on sales and whether there is a statistically significant difference or not."
   ]
  },
  {
   "cell_type": "markdown",
   "id": "a3d8975b",
   "metadata": {},
   "source": [
    "## Ideas for Additional Data\n",
    "- Demographic info on the markets these restaurants are in\n",
    "- More granular sales reporting\n",
    "    - Sales for both the new item introduced and overall restaurant sales\n",
    "    - What percentage of sales for the new item came in-store vs. drive-thru?\n",
    "    - What other food/drink items were commonly purchased along with the new item?\n",
    "- What other food/drink items were commonly purchased along with the new item?\n",
    "- An indication of whether there are any other ongoing promotions running concurrently at these restaurants."
   ]
  }
 ],
 "metadata": {
  "kernelspec": {
   "display_name": "Python 3 (ipykernel)",
   "language": "python",
   "name": "python3"
  },
  "language_info": {
   "codemirror_mode": {
    "name": "ipython",
    "version": 3
   },
   "file_extension": ".py",
   "mimetype": "text/x-python",
   "name": "python",
   "nbconvert_exporter": "python",
   "pygments_lexer": "ipython3",
   "version": "3.9.7"
  }
 },
 "nbformat": 4,
 "nbformat_minor": 5
}
